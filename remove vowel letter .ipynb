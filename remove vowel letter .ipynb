{
 "cells": [
  {
   "cell_type": "code",
   "execution_count": 2,
   "metadata": {},
   "outputs": [
    {
     "name": "stdout",
     "output_type": "stream",
     "text": [
      "Method One\n",
      "my nm s bshn chlgn.\n",
      "\n",
      "Method Two\n",
      "my nm s bshn chlgn.\n"
     ]
    }
   ],
   "source": [
    "class Remove_Vowels:\n",
    "    '''Remove vowels from the given sentences which is given  by the user'''\n",
    "\n",
    "    def __init__(self, strings):\n",
    "        self.strings = strings.lower()\n",
    "        self.vowels = ['a', 'e', 'i', 'o', 'u']\n",
    "\n",
    "    def method_one(self):\n",
    "        '''Using for loop'''\n",
    "\n",
    "        words_removed_vowels = ''\n",
    "\n",
    "        for string in self.strings:\n",
    "            if string not in self.vowels:\n",
    "                words_removed_vowels += string\n",
    "\n",
    "        return words_removed_vowels\n",
    "\n",
    "    def method_two(self):\n",
    "        '''Using list comphrension'''\n",
    "\n",
    "        words_removed_vowels = [string for string in self.strings if string not in self.vowels]\n",
    "\n",
    "        return ''.join(words_removed_vowels)\n",
    "\n",
    "\n",
    "if __name__ == '__main__':\n",
    "    remove_vowels = Remove_Vowels('My name is bishnu chaulagain.')\n",
    "\n",
    "    print('Method One')\n",
    "    print(remove_vowels.method_one())\n",
    "\n",
    "    print('\\nMethod Two')\n",
    "    print(remove_vowels.method_two())"
   ]
  },
  {
   "cell_type": "code",
   "execution_count": null,
   "metadata": {},
   "outputs": [],
   "source": []
  }
 ],
 "metadata": {
  "kernelspec": {
   "display_name": "Python 3",
   "language": "python",
   "name": "python3"
  },
  "language_info": {
   "codemirror_mode": {
    "name": "ipython",
    "version": 3
   },
   "file_extension": ".py",
   "mimetype": "text/x-python",
   "name": "python",
   "nbconvert_exporter": "python",
   "pygments_lexer": "ipython3",
   "version": "3.7.4"
  }
 },
 "nbformat": 4,
 "nbformat_minor": 2
}
